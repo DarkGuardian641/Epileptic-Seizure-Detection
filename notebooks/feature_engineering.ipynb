{
 "cells": [
  {
   "cell_type": "markdown",
   "id": "265149a9",
   "metadata": {},
   "source": [
    "# Feature Engineering for Epileptic Seizure Recognition Dataset"
   ]
  },
  {
   "cell_type": "code",
   "execution_count": null,
   "id": "2c9a4840",
   "metadata": {},
   "outputs": [],
   "source": [
    "\n",
    "import pandas as pd\n",
    "\n",
    "def load_and_preprocess(file_path):\n",
    "    # Load dataset\n",
    "    df = pd.read_csv(file_path)\n",
    "    \n",
    "    # Drop the unnamed column (ID-like)\n",
    "    df.drop(columns=['Unnamed'], inplace=True, errors='ignore')\n",
    "    \n",
    "    # Separate features and target\n",
    "    X = df.drop(columns=['y'])\n",
    "    y = df['y']\n",
    "    \n",
    "    # Standardize numerical features manually\n",
    "    X_scaled = (X - X.mean()) / X.std()\n",
    "    \n",
    "    # Remove outliers using the IQR method\n",
    "    Q1 = X_scaled.quantile(0.25)\n",
    "    Q3 = X_scaled.quantile(0.75)\n",
    "    IQR = Q3 - Q1\n",
    "    X_filtered = X_scaled[~((X_scaled < (Q1 - 1.5 * IQR)) | (X_scaled > (Q3 + 1.5 * IQR))).any(axis=1)]\n",
    "    y_filtered = y.loc[X_filtered.index]\n",
    "    \n",
    "    return X_filtered, y_filtered\n",
    "\n",
    "# File path\n",
    "file_path = \"Epileptic_Seizure_Recognition.csv\"\n",
    "\n",
    "# Process dataset\n",
    "X_processed, y_processed = load_and_preprocess(file_path)\n",
    "\n",
    "# Save processed data\n",
    "X_processed.to_csv(\"processed_features.csv\", index=False)\n",
    "y_processed.to_csv(\"processed_target.csv\", index=False)\n",
    "\n",
    "print(\"Feature engineering complete. Processed data saved.\")\n"
   ]
  }
 ],
 "metadata": {},
 "nbformat": 4,
 "nbformat_minor": 5
}
